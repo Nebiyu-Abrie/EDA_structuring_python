{
 "cells": [
  {
   "cell_type": "markdown",
   "metadata": {},
   "source": [
    "# EDA Structuring with python\n",
    "\n",
    "# Objective\n",
    "`We will be examining lightning strike data collected by the National Oceanic and Atmospheric Association (NOAA) for the year of 2018. First, we will find the locations with the greatest number of strikes within a single day. Then, we will examine the locations that had the greatest number of days with at least one lightning strike.`\n",
    "\n",
    "`Next, we will determine whether certain days of the week had more lightning strikes than others. Finally, we will add data from 2016 and 2017 and, for each month, calculate the percentage of total lightning strikes for that year that occurred in that month. We will then plot this data on a bar graph`"
   ]
  },
  {
   "cell_type": "code",
   "execution_count": 3,
   "metadata": {},
   "outputs": [],
   "source": [
    "# import statments\n",
    "import pandas as pd\n",
    "import numpy as np\n",
    "import matplotlib.pyplot as plt\n",
    "import seaborn as sns\n",
    "import datetime\n",
    "from geopy.point import Point"
   ]
  },
  {
   "cell_type": "code",
   "execution_count": 4,
   "metadata": {},
   "outputs": [
    {
     "data": {
      "text/html": [
       "<div>\n",
       "<style scoped>\n",
       "    .dataframe tbody tr th:only-of-type {\n",
       "        vertical-align: middle;\n",
       "    }\n",
       "\n",
       "    .dataframe tbody tr th {\n",
       "        vertical-align: top;\n",
       "    }\n",
       "\n",
       "    .dataframe thead th {\n",
       "        text-align: right;\n",
       "    }\n",
       "</style>\n",
       "<table border=\"1\" class=\"dataframe\">\n",
       "  <thead>\n",
       "    <tr style=\"text-align: right;\">\n",
       "      <th></th>\n",
       "      <th>date</th>\n",
       "      <th>longitude</th>\n",
       "      <th>latitude</th>\n",
       "      <th>number_of_strikes</th>\n",
       "    </tr>\n",
       "  </thead>\n",
       "  <tbody>\n",
       "    <tr>\n",
       "      <th>0</th>\n",
       "      <td>2018-01-03</td>\n",
       "      <td>-73.8</td>\n",
       "      <td>27.0</td>\n",
       "      <td>38</td>\n",
       "    </tr>\n",
       "    <tr>\n",
       "      <th>1</th>\n",
       "      <td>2018-01-03</td>\n",
       "      <td>-79.1</td>\n",
       "      <td>28.0</td>\n",
       "      <td>60</td>\n",
       "    </tr>\n",
       "    <tr>\n",
       "      <th>2</th>\n",
       "      <td>2018-01-03</td>\n",
       "      <td>-77.9</td>\n",
       "      <td>28.0</td>\n",
       "      <td>47</td>\n",
       "    </tr>\n",
       "    <tr>\n",
       "      <th>3</th>\n",
       "      <td>2018-01-03</td>\n",
       "      <td>-74.9</td>\n",
       "      <td>27.0</td>\n",
       "      <td>98</td>\n",
       "    </tr>\n",
       "    <tr>\n",
       "      <th>4</th>\n",
       "      <td>2018-01-03</td>\n",
       "      <td>-76.7</td>\n",
       "      <td>30.0</td>\n",
       "      <td>59</td>\n",
       "    </tr>\n",
       "  </tbody>\n",
       "</table>\n",
       "</div>"
      ],
      "text/plain": [
       "         date  longitude  latitude  number_of_strikes\n",
       "0  2018-01-03      -73.8      27.0                 38\n",
       "1  2018-01-03      -79.1      28.0                 60\n",
       "2  2018-01-03      -77.9      28.0                 47\n",
       "3  2018-01-03      -74.9      27.0                 98\n",
       "4  2018-01-03      -76.7      30.0                 59"
      ]
     },
     "execution_count": 4,
     "metadata": {},
     "output_type": "execute_result"
    }
   ],
   "source": [
    "# Reading data\n",
    "df = pd.read_csv('lightning_strikes.csv')\n",
    "df.head()"
   ]
  },
  {
   "cell_type": "markdown",
   "metadata": {},
   "source": [
    "# Statistical Summary"
   ]
  },
  {
   "cell_type": "code",
   "execution_count": 5,
   "metadata": {},
   "outputs": [],
   "source": [
    "# Check for duplicates and drop if the dataset has any\n",
    "\n",
    "df1 = df.drop_duplicates()\n"
   ]
  },
  {
   "cell_type": "code",
   "execution_count": 6,
   "metadata": {},
   "outputs": [
    {
     "name": "stdout",
     "output_type": "stream",
     "text": [
      "<class 'pandas.core.frame.DataFrame'>\n",
      "RangeIndex: 10479003 entries, 0 to 10479002\n",
      "Data columns (total 4 columns):\n",
      " #   Column             Dtype  \n",
      "---  ------             -----  \n",
      " 0   date               object \n",
      " 1   longitude          float64\n",
      " 2   latitude           float64\n",
      " 3   number_of_strikes  int64  \n",
      "dtypes: float64(2), int64(1), object(1)\n",
      "memory usage: 319.8+ MB\n"
     ]
    }
   ],
   "source": [
    "df1.info()"
   ]
  },
  {
   "cell_type": "code",
   "execution_count": 7,
   "metadata": {},
   "outputs": [],
   "source": [
    "# Convert the `date` column to datetime data type\n",
    "df1['date'] = pd.to_datetime(df['date'])"
   ]
  },
  {
   "cell_type": "code",
   "execution_count": 8,
   "metadata": {},
   "outputs": [
    {
     "data": {
      "text/plain": [
       "(10479003, 4)"
      ]
     },
     "execution_count": 8,
     "metadata": {},
     "output_type": "execute_result"
    }
   ],
   "source": [
    "# check how the data is shaped (Rows, Columns)\n",
    "df1.shape "
   ]
  },
  {
   "cell_type": "code",
   "execution_count": 9,
   "metadata": {},
   "outputs": [
    {
     "data": {
      "text/plain": [
       "(10479003, 4)"
      ]
     },
     "execution_count": 9,
     "metadata": {},
     "output_type": "execute_result"
    }
   ],
   "source": [
    "# Drop duplicates and check if the shape of the data change \n",
    "df1.drop_duplicates().shape"
   ]
  },
  {
   "cell_type": "markdown",
   "metadata": {},
   "source": [
    "`The shape of the dataset after dropping duplicates is the same, so we can know there's no duplicates.`"
   ]
  },
  {
   "cell_type": "code",
   "execution_count": 10,
   "metadata": {},
   "outputs": [
    {
     "data": {
      "text/html": [
       "<div>\n",
       "<style scoped>\n",
       "    .dataframe tbody tr th:only-of-type {\n",
       "        vertical-align: middle;\n",
       "    }\n",
       "\n",
       "    .dataframe tbody tr th {\n",
       "        vertical-align: top;\n",
       "    }\n",
       "\n",
       "    .dataframe thead th {\n",
       "        text-align: right;\n",
       "    }\n",
       "</style>\n",
       "<table border=\"1\" class=\"dataframe\">\n",
       "  <thead>\n",
       "    <tr style=\"text-align: right;\">\n",
       "      <th></th>\n",
       "      <th>date</th>\n",
       "      <th>longitude</th>\n",
       "      <th>latitude</th>\n",
       "      <th>number_of_strikes</th>\n",
       "    </tr>\n",
       "  </thead>\n",
       "  <tbody>\n",
       "    <tr>\n",
       "      <th>6525180</th>\n",
       "      <td>2016-05-26</td>\n",
       "      <td>-96.3</td>\n",
       "      <td>30.3</td>\n",
       "      <td>2386</td>\n",
       "    </tr>\n",
       "    <tr>\n",
       "      <th>5355863</th>\n",
       "      <td>2017-04-11</td>\n",
       "      <td>-97.7</td>\n",
       "      <td>31.2</td>\n",
       "      <td>2330</td>\n",
       "    </tr>\n",
       "    <tr>\n",
       "      <th>1308996</th>\n",
       "      <td>2016-08-07</td>\n",
       "      <td>-84.0</td>\n",
       "      <td>29.0</td>\n",
       "      <td>2271</td>\n",
       "    </tr>\n",
       "    <tr>\n",
       "      <th>5355963</th>\n",
       "      <td>2017-04-11</td>\n",
       "      <td>-97.6</td>\n",
       "      <td>31.2</td>\n",
       "      <td>2242</td>\n",
       "    </tr>\n",
       "    <tr>\n",
       "      <th>2124455</th>\n",
       "      <td>2018-08-20</td>\n",
       "      <td>-92.5</td>\n",
       "      <td>35.5</td>\n",
       "      <td>2211</td>\n",
       "    </tr>\n",
       "    <tr>\n",
       "      <th>4217218</th>\n",
       "      <td>2018-08-16</td>\n",
       "      <td>-96.1</td>\n",
       "      <td>36.1</td>\n",
       "      <td>2142</td>\n",
       "    </tr>\n",
       "    <tr>\n",
       "      <th>6525162</th>\n",
       "      <td>2016-05-26</td>\n",
       "      <td>-96.2</td>\n",
       "      <td>30.3</td>\n",
       "      <td>2095</td>\n",
       "    </tr>\n",
       "    <tr>\n",
       "      <th>6313302</th>\n",
       "      <td>2018-08-17</td>\n",
       "      <td>-90.2</td>\n",
       "      <td>36.1</td>\n",
       "      <td>2061</td>\n",
       "    </tr>\n",
       "    <tr>\n",
       "      <th>7361966</th>\n",
       "      <td>2018-08-17</td>\n",
       "      <td>-89.9</td>\n",
       "      <td>35.9</td>\n",
       "      <td>2031</td>\n",
       "    </tr>\n",
       "    <tr>\n",
       "      <th>27819</th>\n",
       "      <td>2018-08-16</td>\n",
       "      <td>-96.2</td>\n",
       "      <td>36.1</td>\n",
       "      <td>1902</td>\n",
       "    </tr>\n",
       "  </tbody>\n",
       "</table>\n",
       "</div>"
      ],
      "text/plain": [
       "              date  longitude  latitude  number_of_strikes\n",
       "6525180 2016-05-26      -96.3      30.3               2386\n",
       "5355863 2017-04-11      -97.7      31.2               2330\n",
       "1308996 2016-08-07      -84.0      29.0               2271\n",
       "5355963 2017-04-11      -97.6      31.2               2242\n",
       "2124455 2018-08-20      -92.5      35.5               2211\n",
       "4217218 2018-08-16      -96.1      36.1               2142\n",
       "6525162 2016-05-26      -96.2      30.3               2095\n",
       "6313302 2018-08-17      -90.2      36.1               2061\n",
       "7361966 2018-08-17      -89.9      35.9               2031\n",
       "27819   2018-08-16      -96.2      36.1               1902"
      ]
     },
     "execution_count": 10,
     "metadata": {},
     "output_type": "execute_result"
    }
   ],
   "source": [
    "# Sort by number of strikes in decending order\n",
    "df1.sort_values(by='number_of_strikes', ascending=False).head(10)"
   ]
  },
  {
   "cell_type": "markdown",
   "metadata": {},
   "source": [
    "- Locations with most days with at least one lightning strike"
   ]
  },
  {
   "cell_type": "markdown",
   "metadata": {},
   "source": [
    "`Create a new column called 'center_point_geom' to combine the longitude and latitude to get more understanding of where lightning happen often`"
   ]
  },
  {
   "cell_type": "code",
   "execution_count": 11,
   "metadata": {},
   "outputs": [
    {
     "data": {
      "text/html": [
       "<div>\n",
       "<style scoped>\n",
       "    .dataframe tbody tr th:only-of-type {\n",
       "        vertical-align: middle;\n",
       "    }\n",
       "\n",
       "    .dataframe tbody tr th {\n",
       "        vertical-align: top;\n",
       "    }\n",
       "\n",
       "    .dataframe thead th {\n",
       "        text-align: right;\n",
       "    }\n",
       "</style>\n",
       "<table border=\"1\" class=\"dataframe\">\n",
       "  <thead>\n",
       "    <tr style=\"text-align: right;\">\n",
       "      <th></th>\n",
       "      <th>date</th>\n",
       "      <th>longitude</th>\n",
       "      <th>latitude</th>\n",
       "      <th>number_of_strikes</th>\n",
       "      <th>center_point_geom</th>\n",
       "    </tr>\n",
       "  </thead>\n",
       "  <tbody>\n",
       "    <tr>\n",
       "      <th>0</th>\n",
       "      <td>2018-01-03</td>\n",
       "      <td>-73.8</td>\n",
       "      <td>27.0</td>\n",
       "      <td>38</td>\n",
       "      <td>(27.0, -73.8)</td>\n",
       "    </tr>\n",
       "    <tr>\n",
       "      <th>1</th>\n",
       "      <td>2018-01-03</td>\n",
       "      <td>-79.1</td>\n",
       "      <td>28.0</td>\n",
       "      <td>60</td>\n",
       "      <td>(28.0, -79.1)</td>\n",
       "    </tr>\n",
       "    <tr>\n",
       "      <th>2</th>\n",
       "      <td>2018-01-03</td>\n",
       "      <td>-77.9</td>\n",
       "      <td>28.0</td>\n",
       "      <td>47</td>\n",
       "      <td>(28.000000000000004, -77.9)</td>\n",
       "    </tr>\n",
       "    <tr>\n",
       "      <th>3</th>\n",
       "      <td>2018-01-03</td>\n",
       "      <td>-74.9</td>\n",
       "      <td>27.0</td>\n",
       "      <td>98</td>\n",
       "      <td>(27.0, -74.9)</td>\n",
       "    </tr>\n",
       "    <tr>\n",
       "      <th>4</th>\n",
       "      <td>2018-01-03</td>\n",
       "      <td>-76.7</td>\n",
       "      <td>30.0</td>\n",
       "      <td>59</td>\n",
       "      <td>(29.999999999999996, -76.7)</td>\n",
       "    </tr>\n",
       "  </tbody>\n",
       "</table>\n",
       "</div>"
      ],
      "text/plain": [
       "        date  longitude  latitude  number_of_strikes  \\\n",
       "0 2018-01-03      -73.8      27.0                 38   \n",
       "1 2018-01-03      -79.1      28.0                 60   \n",
       "2 2018-01-03      -77.9      28.0                 47   \n",
       "3 2018-01-03      -74.9      27.0                 98   \n",
       "4 2018-01-03      -76.7      30.0                 59   \n",
       "\n",
       "             center_point_geom  \n",
       "0                (27.0, -73.8)  \n",
       "1                (28.0, -79.1)  \n",
       "2  (28.000000000000004, -77.9)  \n",
       "3                (27.0, -74.9)  \n",
       "4  (29.999999999999996, -76.7)  "
      ]
     },
     "execution_count": 11,
     "metadata": {},
     "output_type": "execute_result"
    }
   ],
   "source": [
    "# Create a new column called 'center_point_geom' \n",
    "df1['center_point_geom'] = list(zip(df1['latitude'], df1['longitude']))\n",
    "\n",
    "df1.head()"
   ]
  },
  {
   "cell_type": "code",
   "execution_count": 12,
   "metadata": {},
   "outputs": [
    {
     "data": {
      "text/plain": [
       "center_point_geom\n",
       "(18.3, -77.8)                   320\n",
       "(18.3, -78.0)                   319\n",
       "(22.9, -82.5)                   311\n",
       "(18.3, -77.9)                   310\n",
       "(18.4, -78.0)                   310\n",
       "                               ... \n",
       "(36.1, -124.5)                    1\n",
       "(35.4, -120.5)                    1\n",
       "(36.4, -121.2)                    1\n",
       "(37.2, -121.4)                    1\n",
       "(28.000000000000004, -116.4)      1\n",
       "Name: count, Length: 187942, dtype: int64"
      ]
     },
     "execution_count": 12,
     "metadata": {},
     "output_type": "execute_result"
    }
   ],
   "source": [
    "# Identify locations that appear most in the dataset\n",
    "df1.center_point_geom.value_counts()"
   ]
  },
  {
   "cell_type": "markdown",
   "metadata": {},
   "source": [
    "`We find that the locations with the most days with lightning strikes had at least one strike on 320 days—nearly one out of every three days of the year. They are all rather close to each other geographically, which makes sense. Notice also that the value_counts() function automatically sorts the results in descending order.`"
   ]
  },
  {
   "cell_type": "markdown",
   "metadata": {},
   "source": [
    "`Let’s examine whether there is an even distribution of values, or whether 310+ strikes are unusually high value for days with lightning strikes.`"
   ]
  },
  {
   "cell_type": "code",
   "execution_count": 13,
   "metadata": {},
   "outputs": [
    {
     "data": {
      "text/html": [
       "<div>\n",
       "<style scoped>\n",
       "    .dataframe tbody tr th:only-of-type {\n",
       "        vertical-align: middle;\n",
       "    }\n",
       "\n",
       "    .dataframe tbody tr th {\n",
       "        vertical-align: top;\n",
       "    }\n",
       "\n",
       "    .dataframe thead th {\n",
       "        text-align: right;\n",
       "    }\n",
       "</style>\n",
       "<table border=\"1\" class=\"dataframe\">\n",
       "  <thead>\n",
       "    <tr style=\"text-align: right;\">\n",
       "      <th></th>\n",
       "      <th>coordinates</th>\n",
       "      <th>counts</th>\n",
       "    </tr>\n",
       "  </thead>\n",
       "  <tbody>\n",
       "    <tr>\n",
       "      <th>0</th>\n",
       "      <td>(18.3, -77.8)</td>\n",
       "      <td>320</td>\n",
       "    </tr>\n",
       "    <tr>\n",
       "      <th>1</th>\n",
       "      <td>(18.3, -78.0)</td>\n",
       "      <td>319</td>\n",
       "    </tr>\n",
       "    <tr>\n",
       "      <th>2</th>\n",
       "      <td>(22.9, -82.5)</td>\n",
       "      <td>311</td>\n",
       "    </tr>\n",
       "    <tr>\n",
       "      <th>3</th>\n",
       "      <td>(18.3, -77.9)</td>\n",
       "      <td>310</td>\n",
       "    </tr>\n",
       "    <tr>\n",
       "      <th>4</th>\n",
       "      <td>(18.4, -78.0)</td>\n",
       "      <td>310</td>\n",
       "    </tr>\n",
       "    <tr>\n",
       "      <th>5</th>\n",
       "      <td>(18.3, -77.7)</td>\n",
       "      <td>303</td>\n",
       "    </tr>\n",
       "    <tr>\n",
       "      <th>6</th>\n",
       "      <td>(22.3, -84.2)</td>\n",
       "      <td>302</td>\n",
       "    </tr>\n",
       "    <tr>\n",
       "      <th>7</th>\n",
       "      <td>(18.200000000000003, -78.0)</td>\n",
       "      <td>302</td>\n",
       "    </tr>\n",
       "    <tr>\n",
       "      <th>8</th>\n",
       "      <td>(22.399999999999995, -84.1)</td>\n",
       "      <td>302</td>\n",
       "    </tr>\n",
       "    <tr>\n",
       "      <th>9</th>\n",
       "      <td>(22.9, -82.2)</td>\n",
       "      <td>302</td>\n",
       "    </tr>\n",
       "    <tr>\n",
       "      <th>10</th>\n",
       "      <td>(18.200000000000003, -77.9)</td>\n",
       "      <td>300</td>\n",
       "    </tr>\n",
       "    <tr>\n",
       "      <th>11</th>\n",
       "      <td>(22.300000000000004, -84.3)</td>\n",
       "      <td>299</td>\n",
       "    </tr>\n",
       "    <tr>\n",
       "      <th>12</th>\n",
       "      <td>(18.2, -77.8)</td>\n",
       "      <td>299</td>\n",
       "    </tr>\n",
       "    <tr>\n",
       "      <th>13</th>\n",
       "      <td>(22.500000000000004, -84.1)</td>\n",
       "      <td>297</td>\n",
       "    </tr>\n",
       "    <tr>\n",
       "      <th>14</th>\n",
       "      <td>(22.800000000000004, -82.60000000000001)</td>\n",
       "      <td>297</td>\n",
       "    </tr>\n",
       "    <tr>\n",
       "      <th>15</th>\n",
       "      <td>(20.5, -75.9)</td>\n",
       "      <td>296</td>\n",
       "    </tr>\n",
       "    <tr>\n",
       "      <th>16</th>\n",
       "      <td>(22.500000000000004, -84.0)</td>\n",
       "      <td>296</td>\n",
       "    </tr>\n",
       "    <tr>\n",
       "      <th>17</th>\n",
       "      <td>(20.4, -75.9)</td>\n",
       "      <td>295</td>\n",
       "    </tr>\n",
       "    <tr>\n",
       "      <th>18</th>\n",
       "      <td>(22.9, -82.4)</td>\n",
       "      <td>294</td>\n",
       "    </tr>\n",
       "    <tr>\n",
       "      <th>19</th>\n",
       "      <td>(18.4, -77.8)</td>\n",
       "      <td>294</td>\n",
       "    </tr>\n",
       "  </tbody>\n",
       "</table>\n",
       "</div>"
      ],
      "text/plain": [
       "                                 coordinates  counts\n",
       "0                              (18.3, -77.8)     320\n",
       "1                              (18.3, -78.0)     319\n",
       "2                              (22.9, -82.5)     311\n",
       "3                              (18.3, -77.9)     310\n",
       "4                              (18.4, -78.0)     310\n",
       "5                              (18.3, -77.7)     303\n",
       "6                              (22.3, -84.2)     302\n",
       "7                (18.200000000000003, -78.0)     302\n",
       "8                (22.399999999999995, -84.1)     302\n",
       "9                              (22.9, -82.2)     302\n",
       "10               (18.200000000000003, -77.9)     300\n",
       "11               (22.300000000000004, -84.3)     299\n",
       "12                             (18.2, -77.8)     299\n",
       "13               (22.500000000000004, -84.1)     297\n",
       "14  (22.800000000000004, -82.60000000000001)     297\n",
       "15                             (20.5, -75.9)     296\n",
       "16               (22.500000000000004, -84.0)     296\n",
       "17                             (20.4, -75.9)     295\n",
       "18                             (22.9, -82.4)     294\n",
       "19                             (18.4, -77.8)     294"
      ]
     },
     "execution_count": 13,
     "metadata": {},
     "output_type": "execute_result"
    }
   ],
   "source": [
    "# Identify top 20 locations with the most days of lightning\n",
    "df1.center_point_geom.value_counts()[:20].rename_axis('coordinates').reset_index(name='counts')"
   ]
  },
  {
   "cell_type": "markdown",
   "metadata": {},
   "source": [
    "- Lightning strikes by day of week"
   ]
  },
  {
   "cell_type": "markdown",
   "metadata": {},
   "source": [
    "`We need new columns \"week\" and \"weekday\" based on the date column trying to figure out the specific date and week when lightning happens`"
   ]
  },
  {
   "cell_type": "code",
   "execution_count": 14,
   "metadata": {},
   "outputs": [
    {
     "data": {
      "text/html": [
       "<div>\n",
       "<style scoped>\n",
       "    .dataframe tbody tr th:only-of-type {\n",
       "        vertical-align: middle;\n",
       "    }\n",
       "\n",
       "    .dataframe tbody tr th {\n",
       "        vertical-align: top;\n",
       "    }\n",
       "\n",
       "    .dataframe thead th {\n",
       "        text-align: right;\n",
       "    }\n",
       "</style>\n",
       "<table border=\"1\" class=\"dataframe\">\n",
       "  <thead>\n",
       "    <tr style=\"text-align: right;\">\n",
       "      <th></th>\n",
       "      <th>date</th>\n",
       "      <th>longitude</th>\n",
       "      <th>latitude</th>\n",
       "      <th>number_of_strikes</th>\n",
       "      <th>center_point_geom</th>\n",
       "      <th>week</th>\n",
       "      <th>weekday</th>\n",
       "    </tr>\n",
       "  </thead>\n",
       "  <tbody>\n",
       "    <tr>\n",
       "      <th>0</th>\n",
       "      <td>2018-01-03</td>\n",
       "      <td>-73.8</td>\n",
       "      <td>27.0</td>\n",
       "      <td>38</td>\n",
       "      <td>(27.0, -73.8)</td>\n",
       "      <td>1</td>\n",
       "      <td>Wednesday</td>\n",
       "    </tr>\n",
       "    <tr>\n",
       "      <th>1</th>\n",
       "      <td>2018-01-03</td>\n",
       "      <td>-79.1</td>\n",
       "      <td>28.0</td>\n",
       "      <td>60</td>\n",
       "      <td>(28.0, -79.1)</td>\n",
       "      <td>1</td>\n",
       "      <td>Wednesday</td>\n",
       "    </tr>\n",
       "    <tr>\n",
       "      <th>2</th>\n",
       "      <td>2018-01-03</td>\n",
       "      <td>-77.9</td>\n",
       "      <td>28.0</td>\n",
       "      <td>47</td>\n",
       "      <td>(28.000000000000004, -77.9)</td>\n",
       "      <td>1</td>\n",
       "      <td>Wednesday</td>\n",
       "    </tr>\n",
       "    <tr>\n",
       "      <th>3</th>\n",
       "      <td>2018-01-03</td>\n",
       "      <td>-74.9</td>\n",
       "      <td>27.0</td>\n",
       "      <td>98</td>\n",
       "      <td>(27.0, -74.9)</td>\n",
       "      <td>1</td>\n",
       "      <td>Wednesday</td>\n",
       "    </tr>\n",
       "    <tr>\n",
       "      <th>4</th>\n",
       "      <td>2018-01-03</td>\n",
       "      <td>-76.7</td>\n",
       "      <td>30.0</td>\n",
       "      <td>59</td>\n",
       "      <td>(29.999999999999996, -76.7)</td>\n",
       "      <td>1</td>\n",
       "      <td>Wednesday</td>\n",
       "    </tr>\n",
       "  </tbody>\n",
       "</table>\n",
       "</div>"
      ],
      "text/plain": [
       "        date  longitude  latitude  number_of_strikes  \\\n",
       "0 2018-01-03      -73.8      27.0                 38   \n",
       "1 2018-01-03      -79.1      28.0                 60   \n",
       "2 2018-01-03      -77.9      28.0                 47   \n",
       "3 2018-01-03      -74.9      27.0                 98   \n",
       "4 2018-01-03      -76.7      30.0                 59   \n",
       "\n",
       "             center_point_geom  week    weekday  \n",
       "0                (27.0, -73.8)     1  Wednesday  \n",
       "1                (28.0, -79.1)     1  Wednesday  \n",
       "2  (28.000000000000004, -77.9)     1  Wednesday  \n",
       "3                (27.0, -74.9)     1  Wednesday  \n",
       "4  (29.999999999999996, -76.7)     1  Wednesday  "
      ]
     },
     "execution_count": 14,
     "metadata": {},
     "output_type": "execute_result"
    }
   ],
   "source": [
    "# Create two new columns\n",
    "df1['week'] = df1.date.dt.isocalendar().week\n",
    "df1['weekday'] = df1.date.dt.day_name()\n",
    "df1.head()"
   ]
  },
  {
   "cell_type": "markdown",
   "metadata": {},
   "source": [
    "`Now we can calculate the mean number of lightning strikes for each weekday of the year.`"
   ]
  },
  {
   "cell_type": "code",
   "execution_count": 15,
   "metadata": {},
   "outputs": [
    {
     "data": {
      "text/html": [
       "<div>\n",
       "<style scoped>\n",
       "    .dataframe tbody tr th:only-of-type {\n",
       "        vertical-align: middle;\n",
       "    }\n",
       "\n",
       "    .dataframe tbody tr th {\n",
       "        vertical-align: top;\n",
       "    }\n",
       "\n",
       "    .dataframe thead th {\n",
       "        text-align: right;\n",
       "    }\n",
       "</style>\n",
       "<table border=\"1\" class=\"dataframe\">\n",
       "  <thead>\n",
       "    <tr style=\"text-align: right;\">\n",
       "      <th></th>\n",
       "      <th>number_of_strikes</th>\n",
       "    </tr>\n",
       "    <tr>\n",
       "      <th>weekday</th>\n",
       "      <th></th>\n",
       "    </tr>\n",
       "  </thead>\n",
       "  <tbody>\n",
       "    <tr>\n",
       "      <th>Friday</th>\n",
       "      <td>11.708626</td>\n",
       "    </tr>\n",
       "    <tr>\n",
       "      <th>Monday</th>\n",
       "      <td>11.531541</td>\n",
       "    </tr>\n",
       "    <tr>\n",
       "      <th>Saturday</th>\n",
       "      <td>11.831304</td>\n",
       "    </tr>\n",
       "    <tr>\n",
       "      <th>Sunday</th>\n",
       "      <td>11.689751</td>\n",
       "    </tr>\n",
       "    <tr>\n",
       "      <th>Thursday</th>\n",
       "      <td>11.452641</td>\n",
       "    </tr>\n",
       "    <tr>\n",
       "      <th>Tuesday</th>\n",
       "      <td>11.344666</td>\n",
       "    </tr>\n",
       "    <tr>\n",
       "      <th>Wednesday</th>\n",
       "      <td>11.464647</td>\n",
       "    </tr>\n",
       "  </tbody>\n",
       "</table>\n",
       "</div>"
      ],
      "text/plain": [
       "           number_of_strikes\n",
       "weekday                     \n",
       "Friday             11.708626\n",
       "Monday             11.531541\n",
       "Saturday           11.831304\n",
       "Sunday             11.689751\n",
       "Thursday           11.452641\n",
       "Tuesday            11.344666\n",
       "Wednesday          11.464647"
      ]
     },
     "execution_count": 15,
     "metadata": {},
     "output_type": "execute_result"
    }
   ],
   "source": [
    "df1[['weekday','number_of_strikes']].groupby(['weekday']).mean()"
   ]
  },
  {
   "cell_type": "markdown",
   "metadata": {},
   "source": [
    "`It seems like we have an even distribution of the lightning strikes between the weekdays but on \"Tuesday, Wednesday, Thursday and Monday\" the number of strikes dip a little bit especially on \"tuesday\" which takes a big dip.` "
   ]
  },
  {
   "cell_type": "markdown",
   "metadata": {},
   "source": [
    "`Lets plot the distributions of strike counts for each day of the week. We want each distribution to be represented as a boxplot.`"
   ]
  },
  {
   "cell_type": "code",
   "execution_count": 16,
   "metadata": {},
   "outputs": [],
   "source": [
    "# Define the Days order for the plot\n",
    "\n",
    "weekday_order = ['Monday','Tuesday','Wednesday','Thursday','Friday','Saturday','Sunday']"
   ]
  },
  {
   "cell_type": "code",
   "execution_count": 17,
   "metadata": {},
   "outputs": [
    {
     "data": {
      "text/plain": [
       "Text(0.5, 1.0, 'Lightning Distribution per Weekday')"
      ]
     },
     "execution_count": 17,
     "metadata": {},
     "output_type": "execute_result"
    },
    {
     "data": {
      "image/png": "[encoded data removed]",
      "text/plain": [
       "<Figure size 640x480 with 1 Axes>"
      ]
     },
     "metadata": {},
     "output_type": "display_data"
    }
   ],
   "source": [
    "# Boxplot of strike count for each weekday\n",
    "\n",
    "fig = sns.boxplot(data=df1,\n",
    "                  x='weekday',\n",
    "                  y='number_of_strikes',\n",
    "                  order=weekday_order,\n",
    "                  showfliers=False);\n",
    "fig.set_title('Lightning Distribution per Weekday')\n"
   ]
  },
  {
   "cell_type": "markdown",
   "metadata": {},
   "source": [
    "`Notice that the median remains the same on almost all of the week days except \"wednesday\" and \"saturday\" which are the days where the median lightning strike number spike up. Why might this be? Perhaps the aerosol particles emitted by factories and vehicles increase the likelihood of lightning strike. This is only a speculation, but it's one possible path for further exploration.`"
   ]
  },
  {
   "cell_type": "markdown",
   "metadata": {},
   "source": [
    "* Monthly lightning strikes"
   ]
  },
  {
   "cell_type": "markdown",
   "metadata": {},
   "source": [
    "`We will used a diffrent dataframe not to alter the data we got from our previous results. `"
   ]
  },
  {
   "cell_type": "code",
   "execution_count": 33,
   "metadata": {},
   "outputs": [
    {
     "data": {
      "text/html": [
       "<div>\n",
       "<style scoped>\n",
       "    .dataframe tbody tr th:only-of-type {\n",
       "        vertical-align: middle;\n",
       "    }\n",
       "\n",
       "    .dataframe tbody tr th {\n",
       "        vertical-align: top;\n",
       "    }\n",
       "\n",
       "    .dataframe thead th {\n",
       "        text-align: right;\n",
       "    }\n",
       "</style>\n",
       "<table border=\"1\" class=\"dataframe\">\n",
       "  <thead>\n",
       "    <tr style=\"text-align: right;\">\n",
       "      <th></th>\n",
       "      <th>date</th>\n",
       "      <th>longitude</th>\n",
       "      <th>latitude</th>\n",
       "      <th>number_of_strikes</th>\n",
       "    </tr>\n",
       "  </thead>\n",
       "  <tbody>\n",
       "    <tr>\n",
       "      <th>0</th>\n",
       "      <td>2018-01-03</td>\n",
       "      <td>-73.8</td>\n",
       "      <td>27.0</td>\n",
       "      <td>38</td>\n",
       "    </tr>\n",
       "    <tr>\n",
       "      <th>1</th>\n",
       "      <td>2018-01-03</td>\n",
       "      <td>-79.1</td>\n",
       "      <td>28.0</td>\n",
       "      <td>60</td>\n",
       "    </tr>\n",
       "    <tr>\n",
       "      <th>2</th>\n",
       "      <td>2018-01-03</td>\n",
       "      <td>-77.9</td>\n",
       "      <td>28.0</td>\n",
       "      <td>47</td>\n",
       "    </tr>\n",
       "    <tr>\n",
       "      <th>3</th>\n",
       "      <td>2018-01-03</td>\n",
       "      <td>-74.9</td>\n",
       "      <td>27.0</td>\n",
       "      <td>98</td>\n",
       "    </tr>\n",
       "    <tr>\n",
       "      <th>4</th>\n",
       "      <td>2018-01-03</td>\n",
       "      <td>-76.7</td>\n",
       "      <td>30.0</td>\n",
       "      <td>59</td>\n",
       "    </tr>\n",
       "  </tbody>\n",
       "</table>\n",
       "</div>"
      ],
      "text/plain": [
       "         date  longitude  latitude  number_of_strikes\n",
       "0  2018-01-03      -73.8      27.0                 38\n",
       "1  2018-01-03      -79.1      28.0                 60\n",
       "2  2018-01-03      -77.9      28.0                 47\n",
       "3  2018-01-03      -74.9      27.0                 98\n",
       "4  2018-01-03      -76.7      30.0                 59"
      ]
     },
     "execution_count": 33,
     "metadata": {},
     "output_type": "execute_result"
    }
   ],
   "source": [
    "df2 = pd.read_csv('lightning_strikes.csv')\n",
    "df2.head()"
   ]
  },
  {
   "cell_type": "code",
   "execution_count": 34,
   "metadata": {},
   "outputs": [
    {
     "data": {
      "text/html": [
       "<div>\n",
       "<style scoped>\n",
       "    .dataframe tbody tr th:only-of-type {\n",
       "        vertical-align: middle;\n",
       "    }\n",
       "\n",
       "    .dataframe tbody tr th {\n",
       "        vertical-align: top;\n",
       "    }\n",
       "\n",
       "    .dataframe thead th {\n",
       "        text-align: right;\n",
       "    }\n",
       "</style>\n",
       "<table border=\"1\" class=\"dataframe\">\n",
       "  <thead>\n",
       "    <tr style=\"text-align: right;\">\n",
       "      <th></th>\n",
       "      <th>date</th>\n",
       "      <th>longitude</th>\n",
       "      <th>latitude</th>\n",
       "      <th>number_of_strikes</th>\n",
       "      <th>center_point_geom</th>\n",
       "    </tr>\n",
       "  </thead>\n",
       "  <tbody>\n",
       "    <tr>\n",
       "      <th>0</th>\n",
       "      <td>2018-01-03</td>\n",
       "      <td>-73.8</td>\n",
       "      <td>27.0</td>\n",
       "      <td>38</td>\n",
       "      <td>(27.0, -73.8)</td>\n",
       "    </tr>\n",
       "    <tr>\n",
       "      <th>1</th>\n",
       "      <td>2018-01-03</td>\n",
       "      <td>-79.1</td>\n",
       "      <td>28.0</td>\n",
       "      <td>60</td>\n",
       "      <td>(28.0, -79.1)</td>\n",
       "    </tr>\n",
       "    <tr>\n",
       "      <th>2</th>\n",
       "      <td>2018-01-03</td>\n",
       "      <td>-77.9</td>\n",
       "      <td>28.0</td>\n",
       "      <td>47</td>\n",
       "      <td>(28.000000000000004, -77.9)</td>\n",
       "    </tr>\n",
       "    <tr>\n",
       "      <th>3</th>\n",
       "      <td>2018-01-03</td>\n",
       "      <td>-74.9</td>\n",
       "      <td>27.0</td>\n",
       "      <td>98</td>\n",
       "      <td>(27.0, -74.9)</td>\n",
       "    </tr>\n",
       "    <tr>\n",
       "      <th>4</th>\n",
       "      <td>2018-01-03</td>\n",
       "      <td>-76.7</td>\n",
       "      <td>30.0</td>\n",
       "      <td>59</td>\n",
       "      <td>(29.999999999999996, -76.7)</td>\n",
       "    </tr>\n",
       "  </tbody>\n",
       "</table>\n",
       "</div>"
      ],
      "text/plain": [
       "         date  longitude  latitude  number_of_strikes  \\\n",
       "0  2018-01-03      -73.8      27.0                 38   \n",
       "1  2018-01-03      -79.1      28.0                 60   \n",
       "2  2018-01-03      -77.9      28.0                 47   \n",
       "3  2018-01-03      -74.9      27.0                 98   \n",
       "4  2018-01-03      -76.7      30.0                 59   \n",
       "\n",
       "             center_point_geom  \n",
       "0                (27.0, -73.8)  \n",
       "1                (28.0, -79.1)  \n",
       "2  (28.000000000000004, -77.9)  \n",
       "3                (27.0, -74.9)  \n",
       "4  (29.999999999999996, -76.7)  "
      ]
     },
     "execution_count": 34,
     "metadata": {},
     "output_type": "execute_result"
    }
   ],
   "source": [
    "df2['center_point_geom'] = list(zip(df2['latitude'], df2['longitude']))\n",
    "df2.head()"
   ]
  },
  {
   "cell_type": "code",
   "execution_count": 35,
   "metadata": {},
   "outputs": [
    {
     "data": {
      "text/html": [
       "<div>\n",
       "<style scoped>\n",
       "    .dataframe tbody tr th:only-of-type {\n",
       "        vertical-align: middle;\n",
       "    }\n",
       "\n",
       "    .dataframe tbody tr th {\n",
       "        vertical-align: top;\n",
       "    }\n",
       "\n",
       "    .dataframe thead th {\n",
       "        text-align: right;\n",
       "    }\n",
       "</style>\n",
       "<table border=\"1\" class=\"dataframe\">\n",
       "  <thead>\n",
       "    <tr style=\"text-align: right;\">\n",
       "      <th></th>\n",
       "      <th>date</th>\n",
       "      <th>number_of_strikes</th>\n",
       "      <th>center_point_geom</th>\n",
       "    </tr>\n",
       "  </thead>\n",
       "  <tbody>\n",
       "    <tr>\n",
       "      <th>0</th>\n",
       "      <td>2018-01-03</td>\n",
       "      <td>38</td>\n",
       "      <td>(27.0, -73.8)</td>\n",
       "    </tr>\n",
       "    <tr>\n",
       "      <th>1</th>\n",
       "      <td>2018-01-03</td>\n",
       "      <td>60</td>\n",
       "      <td>(28.0, -79.1)</td>\n",
       "    </tr>\n",
       "    <tr>\n",
       "      <th>2</th>\n",
       "      <td>2018-01-03</td>\n",
       "      <td>47</td>\n",
       "      <td>(28.000000000000004, -77.9)</td>\n",
       "    </tr>\n",
       "    <tr>\n",
       "      <th>3</th>\n",
       "      <td>2018-01-03</td>\n",
       "      <td>98</td>\n",
       "      <td>(27.0, -74.9)</td>\n",
       "    </tr>\n",
       "    <tr>\n",
       "      <th>4</th>\n",
       "      <td>2018-01-03</td>\n",
       "      <td>59</td>\n",
       "      <td>(29.999999999999996, -76.7)</td>\n",
       "    </tr>\n",
       "  </tbody>\n",
       "</table>\n",
       "</div>"
      ],
      "text/plain": [
       "         date  number_of_strikes            center_point_geom\n",
       "0  2018-01-03                 38                (27.0, -73.8)\n",
       "1  2018-01-03                 60                (28.0, -79.1)\n",
       "2  2018-01-03                 47  (28.000000000000004, -77.9)\n",
       "3  2018-01-03                 98                (27.0, -74.9)\n",
       "4  2018-01-03                 59  (29.999999999999996, -76.7)"
      ]
     },
     "execution_count": 35,
     "metadata": {},
     "output_type": "execute_result"
    }
   ],
   "source": [
    "# Tidy up the dataset\n",
    "columns_drop = ['longitude','latitude']\n",
    "df2.drop(columns=columns_drop, inplace=True)\n",
    "df2.head()"
   ]
  },
  {
   "cell_type": "code",
   "execution_count": 36,
   "metadata": {},
   "outputs": [
    {
     "data": {
      "text/plain": [
       "date                 datetime64[ns]\n",
       "number_of_strikes             int64\n",
       "center_point_geom            object\n",
       "dtype: object"
      ]
     },
     "execution_count": 36,
     "metadata": {},
     "output_type": "execute_result"
    }
   ],
   "source": [
    "# convert the date column to datetime\n",
    "df2['date'] = pd.to_datetime(df2['date'])\n",
    "df2.dtypes"
   ]
  },
  {
   "cell_type": "markdown",
   "metadata": {},
   "source": [
    "`To help us with naming the bars of the bar plot, we’ll create three new columns that isolate the year, month number, and month name.\n",
    "`"
   ]
  },
  {
   "cell_type": "code",
   "execution_count": 38,
   "metadata": {},
   "outputs": [
    {
     "data": {
      "text/html": [
       "<div>\n",
       "<style scoped>\n",
       "    .dataframe tbody tr th:only-of-type {\n",
       "        vertical-align: middle;\n",
       "    }\n",
       "\n",
       "    .dataframe tbody tr th {\n",
       "        vertical-align: top;\n",
       "    }\n",
       "\n",
       "    .dataframe thead th {\n",
       "        text-align: right;\n",
       "    }\n",
       "</style>\n",
       "<table border=\"1\" class=\"dataframe\">\n",
       "  <thead>\n",
       "    <tr style=\"text-align: right;\">\n",
       "      <th></th>\n",
       "      <th>date</th>\n",
       "      <th>number_of_strikes</th>\n",
       "      <th>center_point_geom</th>\n",
       "      <th>year</th>\n",
       "      <th>month</th>\n",
       "      <th>month_txt</th>\n",
       "    </tr>\n",
       "  </thead>\n",
       "  <tbody>\n",
       "    <tr>\n",
       "      <th>0</th>\n",
       "      <td>2018-01-03</td>\n",
       "      <td>38</td>\n",
       "      <td>(27.0, -73.8)</td>\n",
       "      <td>2018</td>\n",
       "      <td>1</td>\n",
       "      <td>January</td>\n",
       "    </tr>\n",
       "    <tr>\n",
       "      <th>1</th>\n",
       "      <td>2018-01-03</td>\n",
       "      <td>60</td>\n",
       "      <td>(28.0, -79.1)</td>\n",
       "      <td>2018</td>\n",
       "      <td>1</td>\n",
       "      <td>January</td>\n",
       "    </tr>\n",
       "    <tr>\n",
       "      <th>2</th>\n",
       "      <td>2018-01-03</td>\n",
       "      <td>47</td>\n",
       "      <td>(28.000000000000004, -77.9)</td>\n",
       "      <td>2018</td>\n",
       "      <td>1</td>\n",
       "      <td>January</td>\n",
       "    </tr>\n",
       "    <tr>\n",
       "      <th>3</th>\n",
       "      <td>2018-01-03</td>\n",
       "      <td>98</td>\n",
       "      <td>(27.0, -74.9)</td>\n",
       "      <td>2018</td>\n",
       "      <td>1</td>\n",
       "      <td>January</td>\n",
       "    </tr>\n",
       "    <tr>\n",
       "      <th>4</th>\n",
       "      <td>2018-01-03</td>\n",
       "      <td>59</td>\n",
       "      <td>(29.999999999999996, -76.7)</td>\n",
       "      <td>2018</td>\n",
       "      <td>1</td>\n",
       "      <td>January</td>\n",
       "    </tr>\n",
       "  </tbody>\n",
       "</table>\n",
       "</div>"
      ],
      "text/plain": [
       "        date  number_of_strikes            center_point_geom  year  month  \\\n",
       "0 2018-01-03                 38                (27.0, -73.8)  2018      1   \n",
       "1 2018-01-03                 60                (28.0, -79.1)  2018      1   \n",
       "2 2018-01-03                 47  (28.000000000000004, -77.9)  2018      1   \n",
       "3 2018-01-03                 98                (27.0, -74.9)  2018      1   \n",
       "4 2018-01-03                 59  (29.999999999999996, -76.7)  2018      1   \n",
       "\n",
       "  month_txt  \n",
       "0   January  \n",
       "1   January  \n",
       "2   January  \n",
       "3   January  \n",
       "4   January  "
      ]
     },
     "execution_count": 38,
     "metadata": {},
     "output_type": "execute_result"
    }
   ],
   "source": [
    "df2['year'] = df2.date.dt.year\n",
    "df2['month'] = df2.date.dt.month\n",
    "df2['month_txt'] = df2.date.dt.month_name()\n",
    "df2.head()"
   ]
  },
  {
   "cell_type": "code",
   "execution_count": 39,
   "metadata": {},
   "outputs": [
    {
     "data": {
      "text/html": [
       "<div>\n",
       "<style scoped>\n",
       "    .dataframe tbody tr th:only-of-type {\n",
       "        vertical-align: middle;\n",
       "    }\n",
       "\n",
       "    .dataframe tbody tr th {\n",
       "        vertical-align: top;\n",
       "    }\n",
       "\n",
       "    .dataframe thead th {\n",
       "        text-align: right;\n",
       "    }\n",
       "</style>\n",
       "<table border=\"1\" class=\"dataframe\">\n",
       "  <thead>\n",
       "    <tr style=\"text-align: right;\">\n",
       "      <th></th>\n",
       "      <th>number_of_strikes</th>\n",
       "    </tr>\n",
       "    <tr>\n",
       "      <th>year</th>\n",
       "      <th></th>\n",
       "    </tr>\n",
       "  </thead>\n",
       "  <tbody>\n",
       "    <tr>\n",
       "      <th>2016</th>\n",
       "      <td>41582229</td>\n",
       "    </tr>\n",
       "    <tr>\n",
       "      <th>2017</th>\n",
       "      <td>35095195</td>\n",
       "    </tr>\n",
       "    <tr>\n",
       "      <th>2018</th>\n",
       "      <td>44600989</td>\n",
       "    </tr>\n",
       "  </tbody>\n",
       "</table>\n",
       "</div>"
      ],
      "text/plain": [
       "      number_of_strikes\n",
       "year                   \n",
       "2016           41582229\n",
       "2017           35095195\n",
       "2018           44600989"
      ]
     },
     "execution_count": 39,
     "metadata": {},
     "output_type": "execute_result"
    }
   ],
   "source": [
    "# Calculate total number of strikes per year\n",
    "df2[['year','number_of_strikes']].groupby(['year']).sum()"
   ]
  },
  {
   "cell_type": "markdown",
   "metadata": {},
   "source": [
    "`Now we’ll calculate the percentage of total lightning strikes for each year that occurred in a given month and assign the results to a new dataframe called lightning_by_month`"
   ]
  },
  {
   "cell_type": "code",
   "execution_count": 40,
   "metadata": {},
   "outputs": [
    {
     "data": {
      "text/html": [
       "<div>\n",
       "<style scoped>\n",
       "    .dataframe tbody tr th:only-of-type {\n",
       "        vertical-align: middle;\n",
       "    }\n",
       "\n",
       "    .dataframe tbody tr th {\n",
       "        vertical-align: top;\n",
       "    }\n",
       "\n",
       "    .dataframe thead th {\n",
       "        text-align: right;\n",
       "    }\n",
       "</style>\n",
       "<table border=\"1\" class=\"dataframe\">\n",
       "  <thead>\n",
       "    <tr style=\"text-align: right;\">\n",
       "      <th></th>\n",
       "      <th>month_txt</th>\n",
       "      <th>year</th>\n",
       "      <th>number_of_strikes</th>\n",
       "    </tr>\n",
       "  </thead>\n",
       "  <tbody>\n",
       "    <tr>\n",
       "      <th>0</th>\n",
       "      <td>April</td>\n",
       "      <td>2016</td>\n",
       "      <td>2636427</td>\n",
       "    </tr>\n",
       "    <tr>\n",
       "      <th>1</th>\n",
       "      <td>April</td>\n",
       "      <td>2017</td>\n",
       "      <td>3819075</td>\n",
       "    </tr>\n",
       "    <tr>\n",
       "      <th>2</th>\n",
       "      <td>April</td>\n",
       "      <td>2018</td>\n",
       "      <td>1524339</td>\n",
       "    </tr>\n",
       "    <tr>\n",
       "      <th>3</th>\n",
       "      <td>August</td>\n",
       "      <td>2016</td>\n",
       "      <td>7250442</td>\n",
       "    </tr>\n",
       "    <tr>\n",
       "      <th>4</th>\n",
       "      <td>August</td>\n",
       "      <td>2017</td>\n",
       "      <td>6021702</td>\n",
       "    </tr>\n",
       "  </tbody>\n",
       "</table>\n",
       "</div>"
      ],
      "text/plain": [
       "  month_txt  year  number_of_strikes\n",
       "0     April  2016            2636427\n",
       "1     April  2017            3819075\n",
       "2     April  2018            1524339\n",
       "3    August  2016            7250442\n",
       "4    August  2017            6021702"
      ]
     },
     "execution_count": 40,
     "metadata": {},
     "output_type": "execute_result"
    }
   ],
   "source": [
    "# Calculate total lightning strikes for each month of each year\n",
    "lightning_by_month = df2.groupby(['month_txt','year']).agg(\n",
    "    number_of_strikes = pd.NamedAgg(column='number_of_strikes',aggfunc=sum)\n",
    "    ).reset_index()\n",
    "lightning_by_month.head()"
   ]
  },
  {
   "cell_type": "code",
   "execution_count": 41,
   "metadata": {},
   "outputs": [
    {
     "data": {
      "text/html": [
       "<div>\n",
       "<style scoped>\n",
       "    .dataframe tbody tr th:only-of-type {\n",
       "        vertical-align: middle;\n",
       "    }\n",
       "\n",
       "    .dataframe tbody tr th {\n",
       "        vertical-align: top;\n",
       "    }\n",
       "\n",
       "    .dataframe thead th {\n",
       "        text-align: right;\n",
       "    }\n",
       "</style>\n",
       "<table border=\"1\" class=\"dataframe\">\n",
       "  <thead>\n",
       "    <tr style=\"text-align: right;\">\n",
       "      <th></th>\n",
       "      <th>year</th>\n",
       "      <th>year_strikes</th>\n",
       "    </tr>\n",
       "  </thead>\n",
       "  <tbody>\n",
       "    <tr>\n",
       "      <th>0</th>\n",
       "      <td>2016</td>\n",
       "      <td>41582229</td>\n",
       "    </tr>\n",
       "    <tr>\n",
       "      <th>1</th>\n",
       "      <td>2017</td>\n",
       "      <td>35095195</td>\n",
       "    </tr>\n",
       "    <tr>\n",
       "      <th>2</th>\n",
       "      <td>2018</td>\n",
       "      <td>44600989</td>\n",
       "    </tr>\n",
       "  </tbody>\n",
       "</table>\n",
       "</div>"
      ],
      "text/plain": [
       "   year  year_strikes\n",
       "0  2016      41582229\n",
       "1  2017      35095195\n",
       "2  2018      44600989"
      ]
     },
     "execution_count": 41,
     "metadata": {},
     "output_type": "execute_result"
    }
   ],
   "source": [
    " # Calculate total lightning strikes for each year\n",
    "lightning_by_year = df2.groupby(['year']).agg(\n",
    "year_strikes = pd.NamedAgg(column='number_of_strikes',aggfunc=sum)\n",
    ").reset_index()\n",
    "lightning_by_year.head()\n"
   ]
  },
  {
   "cell_type": "markdown",
   "metadata": {},
   "source": [
    "`We need to use the monthly totals to calculate percentages. For each month, we’ll need the monthly total strike count and the total strike count for that year. Let’s create another dataframe called percentage_lightning that adds a new column called year_strikes, which represents the total number of strikes for each year.`"
   ]
  },
  {
   "cell_type": "code",
   "execution_count": 42,
   "metadata": {},
   "outputs": [
    {
     "data": {
      "text/html": [
       "<div>\n",
       "<style scoped>\n",
       "    .dataframe tbody tr th:only-of-type {\n",
       "        vertical-align: middle;\n",
       "    }\n",
       "\n",
       "    .dataframe tbody tr th {\n",
       "        vertical-align: top;\n",
       "    }\n",
       "\n",
       "    .dataframe thead th {\n",
       "        text-align: right;\n",
       "    }\n",
       "</style>\n",
       "<table border=\"1\" class=\"dataframe\">\n",
       "  <thead>\n",
       "    <tr style=\"text-align: right;\">\n",
       "      <th></th>\n",
       "      <th>month_txt</th>\n",
       "      <th>year</th>\n",
       "      <th>number_of_strikes</th>\n",
       "      <th>year_strikes</th>\n",
       "    </tr>\n",
       "  </thead>\n",
       "  <tbody>\n",
       "    <tr>\n",
       "      <th>0</th>\n",
       "      <td>April</td>\n",
       "      <td>2016</td>\n",
       "      <td>2636427</td>\n",
       "      <td>41582229</td>\n",
       "    </tr>\n",
       "    <tr>\n",
       "      <th>1</th>\n",
       "      <td>August</td>\n",
       "      <td>2016</td>\n",
       "      <td>7250442</td>\n",
       "      <td>41582229</td>\n",
       "    </tr>\n",
       "    <tr>\n",
       "      <th>2</th>\n",
       "      <td>December</td>\n",
       "      <td>2016</td>\n",
       "      <td>316450</td>\n",
       "      <td>41582229</td>\n",
       "    </tr>\n",
       "    <tr>\n",
       "      <th>3</th>\n",
       "      <td>February</td>\n",
       "      <td>2016</td>\n",
       "      <td>312676</td>\n",
       "      <td>41582229</td>\n",
       "    </tr>\n",
       "    <tr>\n",
       "      <th>4</th>\n",
       "      <td>January</td>\n",
       "      <td>2016</td>\n",
       "      <td>313595</td>\n",
       "      <td>41582229</td>\n",
       "    </tr>\n",
       "  </tbody>\n",
       "</table>\n",
       "</div>"
      ],
      "text/plain": [
       "  month_txt  year  number_of_strikes  year_strikes\n",
       "0     April  2016            2636427      41582229\n",
       "1    August  2016            7250442      41582229\n",
       "2  December  2016             316450      41582229\n",
       "3  February  2016             312676      41582229\n",
       "4   January  2016             313595      41582229"
      ]
     },
     "execution_count": 42,
     "metadata": {},
     "output_type": "execute_result"
    }
   ],
   "source": [
    "# Combine `lightning_by_month` and `lightning_by_year` dataframes into single dataframe\n",
    "percentage_lightning = lightning_by_month.merge(lightning_by_year,on='year')\n",
    "percentage_lightning.head()\n"
   ]
  },
  {
   "cell_type": "markdown",
   "metadata": {},
   "source": [
    "`Now we’ll create a new column in our new dataframe that represents the percentage of total lightning strikes for each year that occurred during each month.`"
   ]
  },
  {
   "cell_type": "code",
   "execution_count": 46,
   "metadata": {},
   "outputs": [
    {
     "data": {
      "text/html": [
       "<div>\n",
       "<style scoped>\n",
       "    .dataframe tbody tr th:only-of-type {\n",
       "        vertical-align: middle;\n",
       "    }\n",
       "\n",
       "    .dataframe tbody tr th {\n",
       "        vertical-align: top;\n",
       "    }\n",
       "\n",
       "    .dataframe thead th {\n",
       "        text-align: right;\n",
       "    }\n",
       "</style>\n",
       "<table border=\"1\" class=\"dataframe\">\n",
       "  <thead>\n",
       "    <tr style=\"text-align: right;\">\n",
       "      <th></th>\n",
       "      <th>month_txt</th>\n",
       "      <th>year</th>\n",
       "      <th>number_of_strikes</th>\n",
       "      <th>year_strikes</th>\n",
       "      <th>percentage_lightning_per_month</th>\n",
       "    </tr>\n",
       "  </thead>\n",
       "  <tbody>\n",
       "    <tr>\n",
       "      <th>0</th>\n",
       "      <td>April</td>\n",
       "      <td>2016</td>\n",
       "      <td>2636427</td>\n",
       "      <td>41582229</td>\n",
       "      <td>6.340273</td>\n",
       "    </tr>\n",
       "    <tr>\n",
       "      <th>1</th>\n",
       "      <td>August</td>\n",
       "      <td>2016</td>\n",
       "      <td>7250442</td>\n",
       "      <td>41582229</td>\n",
       "      <td>17.436396</td>\n",
       "    </tr>\n",
       "    <tr>\n",
       "      <th>2</th>\n",
       "      <td>December</td>\n",
       "      <td>2016</td>\n",
       "      <td>316450</td>\n",
       "      <td>41582229</td>\n",
       "      <td>0.761022</td>\n",
       "    </tr>\n",
       "    <tr>\n",
       "      <th>3</th>\n",
       "      <td>February</td>\n",
       "      <td>2016</td>\n",
       "      <td>312676</td>\n",
       "      <td>41582229</td>\n",
       "      <td>0.751946</td>\n",
       "    </tr>\n",
       "    <tr>\n",
       "      <th>4</th>\n",
       "      <td>January</td>\n",
       "      <td>2016</td>\n",
       "      <td>313595</td>\n",
       "      <td>41582229</td>\n",
       "      <td>0.754156</td>\n",
       "    </tr>\n",
       "  </tbody>\n",
       "</table>\n",
       "</div>"
      ],
      "text/plain": [
       "  month_txt  year  number_of_strikes  year_strikes  \\\n",
       "0     April  2016            2636427      41582229   \n",
       "1    August  2016            7250442      41582229   \n",
       "2  December  2016             316450      41582229   \n",
       "3  February  2016             312676      41582229   \n",
       "4   January  2016             313595      41582229   \n",
       "\n",
       "   percentage_lightning_per_month  \n",
       "0                        6.340273  \n",
       "1                       17.436396  \n",
       "2                        0.761022  \n",
       "3                        0.751946  \n",
       "4                        0.754156  "
      ]
     },
     "execution_count": 46,
     "metadata": {},
     "output_type": "execute_result"
    }
   ],
   "source": [
    "percentage_lightning['percentage_lightning_per_month'] = (percentage_lightning.number_of_strikes/percentage_lightning.year_strikes * 100.0)\n",
    " \n",
    "percentage_lightning.head()\n"
   ]
  },
  {
   "cell_type": "markdown",
   "metadata": {},
   "source": [
    "`Now we can plot the percentages by month in a bar graph!`"
   ]
  },
  {
   "cell_type": "code",
   "execution_count": 47,
   "metadata": {},
   "outputs": [
    {
     "data": {
      "image/png": "[encoded data removed]",
      "text/plain": [
       "<Figure size 1000x600 with 1 Axes>"
      ]
     },
     "metadata": {},
     "output_type": "display_data"
    }
   ],
   "source": [
    "plt.figure(figsize=(10,6));\n",
    "\n",
    "month_order = ['January', 'February', 'March', 'April', 'May', 'June',\n",
    "                'July', 'August', 'September', 'October', 'November', 'December']\n",
    "\n",
    "sns.barplot(\n",
    "            data = percentage_lightning,\n",
    "            x = 'month_txt',\n",
    "            y = 'percentage_lightning_per_month',\n",
    "            hue = 'year',\n",
    "            order = month_order );\n",
    "\n",
    "plt.xlabel(\"Month\");\n",
    "plt.ylabel(\"% of lightning strikes\");\n",
    "plt.title(\"% of lightning strikes each Month\");\n"
   ]
  },
  {
   "cell_type": "markdown",
   "metadata": {},
   "source": [
    "`For all three years, there is a clear pattern over the course of each year. One month stands out. More than 1/3 of the lightning in 2018 happened in August.`"
   ]
  }
 ],
 "metadata": {
  "kernelspec": {
   "display_name": "Python 3",
   "language": "python",
   "name": "python3"
  },
  "language_info": {
   "codemirror_mode": {
    "name": "ipython",
    "version": 3
   },
   "file_extension": ".py",
   "mimetype": "text/x-python",
   "name": "python",
   "nbconvert_exporter": "python",
   "pygments_lexer": "ipython3",
   "version": "3.10.11"
  },
  "orig_nbformat": 4
 },
 "nbformat": 4,
 "nbformat_minor": 2
}
